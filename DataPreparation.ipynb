{
 "cells": [
  {
   "cell_type": "code",
   "execution_count": 1,
   "metadata": {},
   "outputs": [],
   "source": [
    "import numpy as np\n",
    "import pandas as pd\n",
    "import matplotlib.pyplot as plt\n",
    "import seaborn as sns\n",
    "\n",
    "import warnings\n",
    "warnings.filterwarnings('ignore')"
   ]
  },
  {
   "cell_type": "code",
   "execution_count": 2,
   "metadata": {},
   "outputs": [],
   "source": [
    "def str_replace_by_dict(series,str_dict):\n",
    "    ''' Replacing multiple strings in a pandas seriesusing a pre-defined dictionary\n",
    "    \n",
    "    Input:\n",
    "    series: pandas series containing the values of survery answers\n",
    "    str_dict: Dictionary containing the set of string replacements\n",
    "    \n",
    "    Output:\n",
    "    series: cleaned pandas series\n",
    "    '''\n",
    "    series = series.astype(str)\n",
    "    for key,value in str_dict.items():\n",
    "        series = series.str.replace(key,value)\n",
    "    series = series.replace('nan', np.nan)\n",
    "    return series\n",
    "\n",
    "def data_processing(df,year):\n",
    "    ''' Contains all the necessary data processing steps for the survey data\n",
    "    \n",
    "    Input:\n",
    "    df: pandas dataframe containing all the response from a specific survey\n",
    "    year: int. year of the survey data\n",
    "    \n",
    "    Output:\n",
    "    df: cleaned pandas dataframe\n",
    "    '''\n",
    "    \n",
    "    # Renaming to make standardized columns names\n",
    "    col_renames = ['Employment','Country',\n",
    "                   'DeveloperType','Salary',\n",
    "                   'LanguageWorkedWith','DatabaseWorkedWith',\n",
    "                   'PlatformWorkedWith','WebFrameWorkedWith']\n",
    "    df.columns = col_renames\n",
    "    \n",
    "    # Subsetting the dataframe to only the Freelance respondents\n",
    "    is_freelance = df['Employment'].str.contains('freelance',na=False)\n",
    "    df = df.loc[is_freelance]\n",
    "    \n",
    "    # Convert Salary to string to remove unwanted commas before converting to float\n",
    "    df['Salary'] = df['Salary'].astype(str)\n",
    "    df['Salary'] = df['Salary'].str.replace(',','')    \n",
    "    df['Salary'] = df['Salary'].astype(float)\n",
    "    \n",
    "    df['Year']=year\n",
    "    \n",
    "    # String replacements and mappings for various variables in the survery\n",
    "\n",
    "    country_dict = {'United States':'U.S.',\n",
    "                    'United Kingdom':'U.K.',\n",
    "                    'Russian Federation':'Russia'}\n",
    "    df['Country'] = df['Country'].replace(country_dict)\n",
    "    \n",
    "    devtype_dict = {'Developer, full-stack':'Full-stack developer',\n",
    "                    'Developer, back-end':'Back-end developer',\n",
    "                    'Developer, front-end':'Front-end developer',\n",
    "                    'Developer, mobile':'Mobile developer'}\n",
    "    df['DeveloperType'] = str_replace_by_dict(df['DeveloperType'],devtype_dict)\n",
    "    \n",
    "    web_dict = {'React':'React.js',\n",
    "                'Angular/Angular.js':'Angular.js',\n",
    "                'Angular':'Angular.js'}\n",
    "    df['WebFrameWorkedWith'] = df['WebFrameWorkedWith'].replace(web_dict)\n",
    "\n",
    "    db_dict = {'MIcrosoft Azure \\(Tables, CosmosDB, SQL, etc\\)':'Microsoft Azure',\n",
    "               'Microsoft Azure \\(Tables, CosmosDB, SQL, etc\\)':'Microsoft Azure'}\n",
    "    df['DatabaseWorkedWith'] = str_replace_by_dict(df['DatabaseWorkedWith'],db_dict)\n",
    "    \n",
    "    return df"
   ]
  },
  {
   "cell_type": "markdown",
   "metadata": {},
   "source": [
    "Reading survery stackoverflow survey data from 2017 to 2019\n",
    "\n",
    "Selected variables:\n",
    "- EmploymentStatus\n",
    "- Country\n",
    "- DeveloperType\n",
    "- Salary\n",
    "- Languages worked with\n",
    "- Databases worked with\n",
    "- Platforms worked with\n",
    "- Web Frameworks worked with"
   ]
  },
  {
   "cell_type": "code",
   "execution_count": null,
   "metadata": {},
   "outputs": [],
   "source": [
    "# reading survey results for 2017 then keeping the seletected variables for processing\n",
    "df_2017 = pd.read_csv('survey_results_public_2017.csv',low_memory=False)\n",
    "cols_2017 = ['EmploymentStatus','Country',\n",
    "             'DeveloperType','Salary','HaveWorkedLanguage',\n",
    "             'HaveWorkedDatabase','HaveWorkedPlatform','HaveWorkedFramework']\n",
    "df_2017 = df_2017[cols_2017]\n",
    "df_2017 = data_processing(df_2017,2017)\n",
    "\n",
    "# reading survey results for 2018 then keeping the seletected variables for processing\n",
    "df_2018 = pd.read_csv('survey_results_public_2018.csv',low_memory=False)\n",
    "cols_2018 = ['Employment','Country',\n",
    "             'DevType','Salary','LanguageWorkedWith',\n",
    "             'DatabaseWorkedWith','PlatformWorkedWith','FrameworkWorkedWith']\n",
    "df_2018 = df_2018[cols_2018]\n",
    "df_2018 = data_processing(df_2018,2018)\n",
    "\n",
    "# reading survey results for 2019 then keeping the seletected variables for processing\n",
    "df_2019 = pd.read_csv('survey_results_public_2019.csv',low_memory=False)\n",
    "cols_2019 = ['Employment','Country',\n",
    "             'DevType','CompTotal','LanguageWorkedWith',\n",
    "             'DatabaseWorkedWith','PlatformWorkedWith','WebFrameWorkedWith']\n",
    "df_2019 = df_2019[cols_2019]\n",
    "df_2019 = data_processing(df_2019,2019)"
   ]
  },
  {
   "cell_type": "markdown",
   "metadata": {},
   "source": [
    "Combining all survery data into one dataframe"
   ]
  },
  {
   "cell_type": "code",
   "execution_count": null,
   "metadata": {},
   "outputs": [],
   "source": [
    "df_free = pd.concat([df_2017,df_2018,df_2019],axis=0,ignore_index=True)\n",
    "df_free.to_csv('survey_data_17_to_19.csv',index=False)\n",
    "print(df_free.shape)\n",
    "df_free.head()"
   ]
  },
  {
   "cell_type": "markdown",
   "metadata": {},
   "source": [
    "## Country Statistics"
   ]
  },
  {
   "cell_type": "code",
   "execution_count": null,
   "metadata": {},
   "outputs": [],
   "source": [
    "fig, ax = plt.subplots(1,3,figsize=(15,5));\n",
    "\n",
    "i = 0\n",
    "for year in [2017,2018,2019]:\n",
    "    plt.figure(figsize=(3,5))\n",
    "    \n",
    "    # seleting a subset df as bases for a subplot\n",
    "    df_year = df_free[df_free['Year']==year]\n",
    "    sub_df = df_year['Country'].value_counts().head(10).sort_values(ascending=True)\n",
    "    \n",
    "    # creating the plot and adding labels\n",
    "    sub_df.plot.barh(color='#add8e6',ax=ax[i])\n",
    "    ax[i].spines['right'].set_visible(False)\n",
    "    ax[i].spines['top'].set_visible(False)\n",
    "    ax[i].set_xlabel('# Freelance Developers')\n",
    "    ax[i].set_title('Top 10 countries '+str(year));\n",
    "    i+=1\n",
    "plt.show();"
   ]
  },
  {
   "cell_type": "markdown",
   "metadata": {},
   "source": [
    "## Developer Type Statistics"
   ]
  },
  {
   "cell_type": "code",
   "execution_count": null,
   "metadata": {},
   "outputs": [],
   "source": [
    "plt.figure(figsize=(10,5))\n",
    "series = df_free['DeveloperType'].str.split(';').explode().str.strip().dropna()\n",
    "series.value_counts().head(10).sort_values(ascending=False).plot.bar(color='b')\n",
    "plt.title('Top 10 Developer Types, Freelance',fontsize=20)\n",
    "plt.xticks(rotation=45)\n",
    "plt.show()"
   ]
  },
  {
   "cell_type": "markdown",
   "metadata": {},
   "source": [
    "## Technologies Used"
   ]
  },
  {
   "cell_type": "code",
   "execution_count": null,
   "metadata": {},
   "outputs": [],
   "source": [
    "fig, ax = plt.subplots(2,2,figsize=(15,10))\n",
    "\n",
    "a = 0\n",
    "b = 0\n",
    "\n",
    "for col in ['LanguageWorkedWith','DatabaseWorkedWith','PlatformWorkedWith','WebFrameWorkedWith']:\n",
    "    plt.figure(figsize=(3,5))\n",
    "    \n",
    "    # seleting a subset df as bases for a subplot\n",
    "    series = df_free[col].str.split(';').explode().str.strip().dropna()\n",
    "    sub_df = series.value_counts().head(10).sort_values()\n",
    "    \n",
    "    # creating the plot and adding labels\n",
    "    sub_df.plot.barh(ax=ax[a,b])\n",
    "    ax[a,b].spines['right'].set_visible(False)\n",
    "    ax[a,b].spines['top'].set_visible(False)\n",
    "    ax[a,b].set_title(str(col));\n",
    "    \n",
    "    # iteration of the subplot position\n",
    "    b+=1\n",
    "    if(b==2):\n",
    "        b=0\n",
    "        a+=1\n",
    "        \n",
    "plt.show();"
   ]
  }
 ],
 "metadata": {
  "kernelspec": {
   "display_name": "Python 3",
   "language": "python",
   "name": "python3"
  },
  "language_info": {
   "codemirror_mode": {
    "name": "ipython",
    "version": 3
   },
   "file_extension": ".py",
   "mimetype": "text/x-python",
   "name": "python",
   "nbconvert_exporter": "python",
   "pygments_lexer": "ipython3",
   "version": "3.6.8"
  }
 },
 "nbformat": 4,
 "nbformat_minor": 4
}
