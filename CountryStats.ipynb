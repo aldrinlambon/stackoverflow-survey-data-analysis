{
 "cells": [
  {
   "cell_type": "code",
   "execution_count": 1,
   "metadata": {},
   "outputs": [],
   "source": [
    "import pandas as pd\n",
    "import matplotlib.pyplot as plt"
   ]
  },
  {
   "cell_type": "code",
   "execution_count": 2,
   "metadata": {},
   "outputs": [
    {
     "data": {
      "text/html": [
       "<div>\n",
       "<style scoped>\n",
       "    .dataframe tbody tr th:only-of-type {\n",
       "        vertical-align: middle;\n",
       "    }\n",
       "\n",
       "    .dataframe tbody tr th {\n",
       "        vertical-align: top;\n",
       "    }\n",
       "\n",
       "    .dataframe thead th {\n",
       "        text-align: right;\n",
       "    }\n",
       "</style>\n",
       "<table border=\"1\" class=\"dataframe\">\n",
       "  <thead>\n",
       "    <tr style=\"text-align: right;\">\n",
       "      <th></th>\n",
       "      <th>Employment</th>\n",
       "      <th>Country</th>\n",
       "      <th>Education</th>\n",
       "      <th>Major</th>\n",
       "      <th>DeveloperType</th>\n",
       "      <th>JobSatisfaction</th>\n",
       "      <th>Salary</th>\n",
       "      <th>LanguageWorkedWith</th>\n",
       "      <th>DatabaseWorkedWith</th>\n",
       "      <th>PlatformWorkedWith</th>\n",
       "      <th>WebFrameWorkedWith</th>\n",
       "      <th>Year</th>\n",
       "    </tr>\n",
       "  </thead>\n",
       "  <tbody>\n",
       "    <tr>\n",
       "      <th>0</th>\n",
       "      <td>Independent contractor, freelancer, or self-em...</td>\n",
       "      <td>France</td>\n",
       "      <td>Master's degree</td>\n",
       "      <td>Computer science or software engineering</td>\n",
       "      <td>Mobile developer; Desktop applications developer</td>\n",
       "      <td>Moderately dissatisfied</td>\n",
       "      <td>NaN</td>\n",
       "      <td>Objective-C; Swift</td>\n",
       "      <td>PostgreSQL</td>\n",
       "      <td>iOS; Amazon Web Services (AWS)</td>\n",
       "      <td>NaN</td>\n",
       "      <td>2017</td>\n",
       "    </tr>\n",
       "    <tr>\n",
       "      <th>1</th>\n",
       "      <td>Independent contractor, freelancer, or self-em...</td>\n",
       "      <td>U.S.</td>\n",
       "      <td>Primary/elementary school</td>\n",
       "      <td>NaN</td>\n",
       "      <td>Desktop applications developer</td>\n",
       "      <td>Moderately dissatisfied</td>\n",
       "      <td>NaN</td>\n",
       "      <td>JavaScript; VB.NET</td>\n",
       "      <td>NaN</td>\n",
       "      <td>Windows Desktop</td>\n",
       "      <td>NaN</td>\n",
       "      <td>2017</td>\n",
       "    </tr>\n",
       "    <tr>\n",
       "      <th>2</th>\n",
       "      <td>Independent contractor, freelancer, or self-em...</td>\n",
       "      <td>Italy</td>\n",
       "      <td>Secondary school</td>\n",
       "      <td>NaN</td>\n",
       "      <td>Web developer</td>\n",
       "      <td>Moderately dissatisfied</td>\n",
       "      <td>NaN</td>\n",
       "      <td>PHP; SQL</td>\n",
       "      <td>MySQL</td>\n",
       "      <td>Windows Desktop; WordPress</td>\n",
       "      <td>NaN</td>\n",
       "      <td>2017</td>\n",
       "    </tr>\n",
       "    <tr>\n",
       "      <th>3</th>\n",
       "      <td>Independent contractor, freelancer, or self-em...</td>\n",
       "      <td>Germany</td>\n",
       "      <td>Professional degree</td>\n",
       "      <td>Computer science or software engineering</td>\n",
       "      <td>NaN</td>\n",
       "      <td>NaN</td>\n",
       "      <td>NaN</td>\n",
       "      <td>C#; Java</td>\n",
       "      <td>NaN</td>\n",
       "      <td>Windows Desktop; Linux Desktop</td>\n",
       "      <td>NaN</td>\n",
       "      <td>2017</td>\n",
       "    </tr>\n",
       "    <tr>\n",
       "      <th>4</th>\n",
       "      <td>Independent contractor, freelancer, or self-em...</td>\n",
       "      <td>Brazil</td>\n",
       "      <td>Some college/university study without earning ...</td>\n",
       "      <td>Computer science or software engineering</td>\n",
       "      <td>Web developer</td>\n",
       "      <td>Neither satisfied nor dissatisfied</td>\n",
       "      <td>NaN</td>\n",
       "      <td>JavaScript</td>\n",
       "      <td>MongoDB</td>\n",
       "      <td>NaN</td>\n",
       "      <td>Node.js; React; Firebase</td>\n",
       "      <td>2017</td>\n",
       "    </tr>\n",
       "  </tbody>\n",
       "</table>\n",
       "</div>"
      ],
      "text/plain": [
       "                                          Employment  Country  \\\n",
       "0  Independent contractor, freelancer, or self-em...   France   \n",
       "1  Independent contractor, freelancer, or self-em...     U.S.   \n",
       "2  Independent contractor, freelancer, or self-em...    Italy   \n",
       "3  Independent contractor, freelancer, or self-em...  Germany   \n",
       "4  Independent contractor, freelancer, or self-em...   Brazil   \n",
       "\n",
       "                                           Education  \\\n",
       "0                                    Master's degree   \n",
       "1                          Primary/elementary school   \n",
       "2                                   Secondary school   \n",
       "3                                Professional degree   \n",
       "4  Some college/university study without earning ...   \n",
       "\n",
       "                                      Major  \\\n",
       "0  Computer science or software engineering   \n",
       "1                                       NaN   \n",
       "2                                       NaN   \n",
       "3  Computer science or software engineering   \n",
       "4  Computer science or software engineering   \n",
       "\n",
       "                                      DeveloperType  \\\n",
       "0  Mobile developer; Desktop applications developer   \n",
       "1                    Desktop applications developer   \n",
       "2                                     Web developer   \n",
       "3                                               NaN   \n",
       "4                                     Web developer   \n",
       "\n",
       "                      JobSatisfaction  Salary  LanguageWorkedWith  \\\n",
       "0             Moderately dissatisfied     NaN  Objective-C; Swift   \n",
       "1             Moderately dissatisfied     NaN  JavaScript; VB.NET   \n",
       "2             Moderately dissatisfied     NaN            PHP; SQL   \n",
       "3                                 NaN     NaN            C#; Java   \n",
       "4  Neither satisfied nor dissatisfied     NaN          JavaScript   \n",
       "\n",
       "  DatabaseWorkedWith              PlatformWorkedWith  \\\n",
       "0         PostgreSQL  iOS; Amazon Web Services (AWS)   \n",
       "1                NaN                 Windows Desktop   \n",
       "2              MySQL      Windows Desktop; WordPress   \n",
       "3                NaN  Windows Desktop; Linux Desktop   \n",
       "4            MongoDB                             NaN   \n",
       "\n",
       "         WebFrameWorkedWith  Year  \n",
       "0                       NaN  2017  \n",
       "1                       NaN  2017  \n",
       "2                       NaN  2017  \n",
       "3                       NaN  2017  \n",
       "4  Node.js; React; Firebase  2017  "
      ]
     },
     "execution_count": 2,
     "metadata": {},
     "output_type": "execute_result"
    }
   ],
   "source": [
    "df_free = pd.read_csv('survey_data_17_to_19.csv')\n",
    "df_free.head()"
   ]
  },
  {
   "cell_type": "code",
   "execution_count": 3,
   "metadata": {},
   "outputs": [
    {
     "data": {
      "image/png": "[encoded data removed]",
      "text/plain": [
       "<Figure size 1080x360 with 3 Axes>"
      ]
     },
     "metadata": {
      "needs_background": "light"
     },
     "output_type": "display_data"
    },
    {
     "data": {
      "text/plain": [
       "<Figure size 216x360 with 0 Axes>"
      ]
     },
     "metadata": {},
     "output_type": "display_data"
    },
    {
     "data": {
      "text/plain": [
       "<Figure size 216x360 with 0 Axes>"
      ]
     },
     "metadata": {},
     "output_type": "display_data"
    },
    {
     "data": {
      "text/plain": [
       "<Figure size 216x360 with 0 Axes>"
      ]
     },
     "metadata": {},
     "output_type": "display_data"
    }
   ],
   "source": [
    "fig, ax = plt.subplots(1,3,figsize=(15,5))\n",
    "\n",
    "i = 0\n",
    "for year in [2017,2018,2019]:\n",
    "    plt.figure(figsize=(3,5))\n",
    "    df_year = df_free[df_free['Year']==year]\n",
    "    df_year['Country'].value_counts().head(10).sort_values(ascending=True).plot(kind='barh',ax=ax[i])\n",
    "    ax[i].spines['right'].set_visible(False)\n",
    "    ax[i].spines['top'].set_visible(False)\n",
    "    ax[i].set_xlabel('# Freelance Developers')\n",
    "    ax[i].set_title('Top 10 Countries, '+str(year));\n",
    "    i+=1\n",
    "plt.show();"
   ]
  },
  {
   "cell_type": "code",
   "execution_count": null,
   "metadata": {},
   "outputs": [],
   "source": []
  }
 ],
 "metadata": {
  "kernelspec": {
   "display_name": "Python 3",
   "language": "python",
   "name": "python3"
  },
  "language_info": {
   "codemirror_mode": {
    "name": "ipython",
    "version": 3
   },
   "file_extension": ".py",
   "mimetype": "text/x-python",
   "name": "python",
   "nbconvert_exporter": "python",
   "pygments_lexer": "ipython3",
   "version": "3.6.8"
  }
 },
 "nbformat": 4,
 "nbformat_minor": 4
}
