{
 "cells": [
  {
   "cell_type": "code",
   "execution_count": 1,
   "metadata": {},
   "outputs": [],
   "source": [
    "import pandas as pd\n",
    "import matplotlib.pyplot as plt"
   ]
  },
  {
   "cell_type": "code",
   "execution_count": 2,
   "metadata": {},
   "outputs": [
    {
     "data": {
      "text/html": [
       "<div>\n",
       "<style scoped>\n",
       "    .dataframe tbody tr th:only-of-type {\n",
       "        vertical-align: middle;\n",
       "    }\n",
       "\n",
       "    .dataframe tbody tr th {\n",
       "        vertical-align: top;\n",
       "    }\n",
       "\n",
       "    .dataframe thead th {\n",
       "        text-align: right;\n",
       "    }\n",
       "</style>\n",
       "<table border=\"1\" class=\"dataframe\">\n",
       "  <thead>\n",
       "    <tr style=\"text-align: right;\">\n",
       "      <th></th>\n",
       "      <th>Employment</th>\n",
       "      <th>Country</th>\n",
       "      <th>Education</th>\n",
       "      <th>Major</th>\n",
       "      <th>DeveloperType</th>\n",
       "      <th>JobSatisfaction</th>\n",
       "      <th>Salary</th>\n",
       "      <th>LanguageWorkedWith</th>\n",
       "      <th>DatabaseWorkedWith</th>\n",
       "      <th>PlatformWorkedWith</th>\n",
       "      <th>WebFrameWorkedWith</th>\n",
       "      <th>Year</th>\n",
       "      <th>logSalary</th>\n",
       "    </tr>\n",
       "  </thead>\n",
       "  <tbody>\n",
       "    <tr>\n",
       "      <th>6</th>\n",
       "      <td>Independent contractor, freelancer, or self-em...</td>\n",
       "      <td>France</td>\n",
       "      <td>Master's degree</td>\n",
       "      <td>Computer science or software engineering</td>\n",
       "      <td>Mobile developer; Desktop applications developer</td>\n",
       "      <td>Moderately dissatisfied</td>\n",
       "      <td>NaN</td>\n",
       "      <td>Objective-C; Swift</td>\n",
       "      <td>PostgreSQL</td>\n",
       "      <td>iOS; Amazon Web Services (AWS)</td>\n",
       "      <td>NaN</td>\n",
       "      <td>2017</td>\n",
       "      <td>NaN</td>\n",
       "    </tr>\n",
       "    <tr>\n",
       "      <th>11</th>\n",
       "      <td>Independent contractor, freelancer, or self-em...</td>\n",
       "      <td>United States</td>\n",
       "      <td>Primary/elementary school</td>\n",
       "      <td>NaN</td>\n",
       "      <td>Desktop applications developer</td>\n",
       "      <td>Moderately dissatisfied</td>\n",
       "      <td>NaN</td>\n",
       "      <td>JavaScript; VB.NET</td>\n",
       "      <td>NaN</td>\n",
       "      <td>Windows Desktop</td>\n",
       "      <td>NaN</td>\n",
       "      <td>2017</td>\n",
       "      <td>NaN</td>\n",
       "    </tr>\n",
       "    <tr>\n",
       "      <th>18</th>\n",
       "      <td>Independent contractor, freelancer, or self-em...</td>\n",
       "      <td>Italy</td>\n",
       "      <td>Secondary school</td>\n",
       "      <td>NaN</td>\n",
       "      <td>Web developer</td>\n",
       "      <td>Moderately dissatisfied</td>\n",
       "      <td>NaN</td>\n",
       "      <td>PHP; SQL</td>\n",
       "      <td>MySQL</td>\n",
       "      <td>Windows Desktop; WordPress</td>\n",
       "      <td>NaN</td>\n",
       "      <td>2017</td>\n",
       "      <td>NaN</td>\n",
       "    </tr>\n",
       "    <tr>\n",
       "      <th>27</th>\n",
       "      <td>Independent contractor, freelancer, or self-em...</td>\n",
       "      <td>Germany</td>\n",
       "      <td>Professional degree</td>\n",
       "      <td>Computer science or software engineering</td>\n",
       "      <td>NaN</td>\n",
       "      <td>NaN</td>\n",
       "      <td>NaN</td>\n",
       "      <td>C#; Java</td>\n",
       "      <td>NaN</td>\n",
       "      <td>Windows Desktop; Linux Desktop</td>\n",
       "      <td>NaN</td>\n",
       "      <td>2017</td>\n",
       "      <td>NaN</td>\n",
       "    </tr>\n",
       "    <tr>\n",
       "      <th>28</th>\n",
       "      <td>Independent contractor, freelancer, or self-em...</td>\n",
       "      <td>Brazil</td>\n",
       "      <td>Some college/university study without earning ...</td>\n",
       "      <td>Computer science or software engineering</td>\n",
       "      <td>Web developer</td>\n",
       "      <td>Neither satisfied nor dissatisfied</td>\n",
       "      <td>NaN</td>\n",
       "      <td>JavaScript</td>\n",
       "      <td>MongoDB</td>\n",
       "      <td>NaN</td>\n",
       "      <td>Node.js; React; Firebase</td>\n",
       "      <td>2017</td>\n",
       "      <td>NaN</td>\n",
       "    </tr>\n",
       "  </tbody>\n",
       "</table>\n",
       "</div>"
      ],
      "text/plain": [
       "                                           Employment        Country  \\\n",
       "6   Independent contractor, freelancer, or self-em...         France   \n",
       "11  Independent contractor, freelancer, or self-em...  United States   \n",
       "18  Independent contractor, freelancer, or self-em...          Italy   \n",
       "27  Independent contractor, freelancer, or self-em...        Germany   \n",
       "28  Independent contractor, freelancer, or self-em...         Brazil   \n",
       "\n",
       "                                            Education  \\\n",
       "6                                     Master's degree   \n",
       "11                          Primary/elementary school   \n",
       "18                                   Secondary school   \n",
       "27                                Professional degree   \n",
       "28  Some college/university study without earning ...   \n",
       "\n",
       "                                       Major  \\\n",
       "6   Computer science or software engineering   \n",
       "11                                       NaN   \n",
       "18                                       NaN   \n",
       "27  Computer science or software engineering   \n",
       "28  Computer science or software engineering   \n",
       "\n",
       "                                       DeveloperType  \\\n",
       "6   Mobile developer; Desktop applications developer   \n",
       "11                    Desktop applications developer   \n",
       "18                                     Web developer   \n",
       "27                                               NaN   \n",
       "28                                     Web developer   \n",
       "\n",
       "                       JobSatisfaction  Salary  LanguageWorkedWith  \\\n",
       "6              Moderately dissatisfied     NaN  Objective-C; Swift   \n",
       "11             Moderately dissatisfied     NaN  JavaScript; VB.NET   \n",
       "18             Moderately dissatisfied     NaN            PHP; SQL   \n",
       "27                                 NaN     NaN            C#; Java   \n",
       "28  Neither satisfied nor dissatisfied     NaN          JavaScript   \n",
       "\n",
       "   DatabaseWorkedWith              PlatformWorkedWith  \\\n",
       "6          PostgreSQL  iOS; Amazon Web Services (AWS)   \n",
       "11                NaN                 Windows Desktop   \n",
       "18              MySQL      Windows Desktop; WordPress   \n",
       "27                NaN  Windows Desktop; Linux Desktop   \n",
       "28            MongoDB                             NaN   \n",
       "\n",
       "          WebFrameWorkedWith  Year  logSalary  \n",
       "6                        NaN  2017        NaN  \n",
       "11                       NaN  2017        NaN  \n",
       "18                       NaN  2017        NaN  \n",
       "27                       NaN  2017        NaN  \n",
       "28  Node.js; React; Firebase  2017        NaN  "
      ]
     },
     "execution_count": 2,
     "metadata": {},
     "output_type": "execute_result"
    }
   ],
   "source": [
    "df = pd.read_csv('survey_data_17_to_19.csv',low_memory=False)\n",
    "is_freelance = df['Employment'].str.contains('freelance')\n",
    "free_df = df[is_freelance]\n",
    "free_df.head()"
   ]
  },
  {
   "cell_type": "code",
   "execution_count": 46,
   "metadata": {},
   "outputs": [
    {
     "data": {
      "image/png": "[encoded data removed]",
      "text/plain": [
       "<Figure size 432x288 with 1 Axes>"
      ]
     },
     "metadata": {
      "needs_background": "light"
     },
     "output_type": "display_data"
    },
    {
     "data": {
      "image/png": "[encoded data removed]",
      "text/plain": [
       "<Figure size 432x288 with 1 Axes>"
      ]
     },
     "metadata": {
      "needs_background": "light"
     },
     "output_type": "display_data"
    },
    {
     "data": {
      "image/png": "[encoded data removed]",
      "text/plain": [
       "<Figure size 432x288 with 1 Axes>"
      ]
     },
     "metadata": {
      "needs_background": "light"
     },
     "output_type": "display_data"
    }
   ],
   "source": [
    "for year in [2017,2018,2019]:\n",
    "    df_year = free_df[free_df['Year']==year]\n",
    "    df_year['Country'].value_counts().head(10).sort_values(ascending=False).plot(kind='bar')\n",
    "    plt.title(str(year))\n",
    "    plt.show()"
   ]
  },
  {
   "cell_type": "code",
   "execution_count": null,
   "metadata": {},
   "outputs": [],
   "source": []
  }
 ],
 "metadata": {
  "kernelspec": {
   "display_name": "Python 3",
   "language": "python",
   "name": "python3"
  },
  "language_info": {
   "codemirror_mode": {
    "name": "ipython",
    "version": 3
   },
   "file_extension": ".py",
   "mimetype": "text/x-python",
   "name": "python",
   "nbconvert_exporter": "python",
   "pygments_lexer": "ipython3",
   "version": "3.6.8"
  }
 },
 "nbformat": 4,
 "nbformat_minor": 4
}
