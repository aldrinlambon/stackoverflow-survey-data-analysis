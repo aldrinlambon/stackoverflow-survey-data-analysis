{
 "cells": [
  {
   "cell_type": "code",
   "execution_count": null,
   "metadata": {},
   "outputs": [],
   "source": [
    "import numpy as np\n",
    "import pandas as pd\n",
    "import matplotlib.pyplot as plt\n",
    "\n",
    "from sklearn.linear_model import LinearRegression\n",
    "from sklearn.model_selection import train_test_split\n",
    "from sklearn.metrics import r2_score, mean_squared_error"
   ]
  },
  {
   "cell_type": "code",
   "execution_count": null,
   "metadata": {},
   "outputs": [],
   "source": [
    "def one_hot_encoding(series):\n",
    "    '''\n",
    "    Customized Onehot encoding for handling multiple value answers\n",
    "    \n",
    "    Input:\n",
    "    series: pandas series containing the values of survery answers\n",
    "    \n",
    "    Output:\n",
    "    oh_df: dataframe contains the one hot encoded values of the input series\n",
    "    \n",
    "    '''\n",
    "    one_hot = []\n",
    "    cat_list = series.str.split(';').explode().str.strip().dropna().unique()\n",
    "    for val in series.values:\n",
    "        one_hot.append([1 if cat in str(val) else 0 for cat in cat_list])\n",
    "        \n",
    "    oh_df = pd.DataFrame(one_hot,columns=cat_list)\n",
    "    return oh_df"
   ]
  },
  {
   "cell_type": "code",
   "execution_count": null,
   "metadata": {},
   "outputs": [],
   "source": [
    "df_free = pd.read_csv('survey_data_17_to_19.csv',low_memory=False)\n",
    "\n",
    "# Computation of outliers using the IQR method\n",
    "Q3 = df_free['Salary'].describe()['75%']\n",
    "Q1 = df_free['Salary'].describe()['25%']\n",
    "IQR = Q3-Q1\n",
    "upper_bound = Q3 + 1.5*IQR\n",
    "\n",
    "# Subsetting the dataframe to keep salaries>0 and not outliers\n",
    "with_salary_no_outlier = (df_free['Salary']>0) & (df_free['Salary']<=upper_bound)\n",
    "df_free = df_free[with_salary_no_outlier].reset_index(drop=True)\n",
    "\n",
    "\n",
    "df_free.head()"
   ]
  },
  {
   "cell_type": "markdown",
   "metadata": {},
   "source": [
    "Combines all the one hot encoded variables into one_df "
   ]
  },
  {
   "cell_type": "code",
   "execution_count": null,
   "metadata": {},
   "outputs": [],
   "source": [
    "one_df = pd.DataFrame()\n",
    "for col in ['DeveloperType','LanguageWorkedWith','DatabaseWorkedWith',\n",
    "            'PlatformWorkedWith','WebFrameWorkedWith']:\n",
    "    dev_one_hot = one_hot_encoding(df_free[col]).add_prefix(col+': ')\n",
    "    one_df = pd.concat([one_df,dev_one_hot],axis=1)\n",
    "one_df['Salary']=df_free['Salary']\n",
    "one_df.head()"
   ]
  },
  {
   "cell_type": "markdown",
   "metadata": {},
   "source": [
    "Train and Test split"
   ]
  },
  {
   "cell_type": "code",
   "execution_count": null,
   "metadata": {},
   "outputs": [],
   "source": [
    "y_col = 'Salary'\n",
    "Xs = one_df.drop(columns=y_col)\n",
    "y = one_df[y_col]\n",
    "\n",
    "X_train,X_test,y_train,y_test = train_test_split(Xs,y,test_size=0.3,random_state=42)"
   ]
  },
  {
   "cell_type": "markdown",
   "metadata": {},
   "source": [
    "Modeling"
   ]
  },
  {
   "cell_type": "code",
   "execution_count": null,
   "metadata": {},
   "outputs": [],
   "source": [
    "model = LinearRegression()\n",
    "model.fit(X_train,y_train)\n",
    "preds = model.predict(X_test)\n",
    "r2_score(y_test,preds),mean_squared_error(y_test,preds)"
   ]
  },
  {
   "cell_type": "markdown",
   "metadata": {},
   "source": [
    "Interpretation and Evaluation"
   ]
  },
  {
   "cell_type": "code",
   "execution_count": null,
   "metadata": {
    "scrolled": false
   },
   "outputs": [],
   "source": [
    "feat_coef = pd.DataFrame(X_train.columns,columns=['Feature'])\n",
    "feat_coef = feat_coef.set_index('Feature')\n",
    "feat_coef['Coefficient'] = model.coef_"
   ]
  },
  {
   "cell_type": "code",
   "execution_count": null,
   "metadata": {
    "scrolled": false
   },
   "outputs": [],
   "source": [
    "# seleting a subset df as bases for Developertype\n",
    "contains_col = feat_coef.index.str.contains('DeveloperType')\n",
    "sub_feat = feat_coef[contains_col]\n",
    "sub_feat.index = sub_feat.index.str.replace('DeveloperType'+': ','')\n",
    "coef_vals = sub_feat.sort_values('Coefficient')\n",
    "\n",
    "# creating the plot and adding labels\n",
    "coef_vals.plot.barh(color='b',figsize=(10,10))\n",
    "plt.ylabel('')\n",
    "plt.title('DeveloperType',fontsize=20)"
   ]
  },
  {
   "cell_type": "code",
   "execution_count": null,
   "metadata": {},
   "outputs": [],
   "source": [
    "fig, ax = plt.subplots(2,2,figsize=(15,20))\n",
    "\n",
    "a = 0\n",
    "b = 0\n",
    "\n",
    "for col in ['LanguageWorkedWith','DatabaseWorkedWith','PlatformWorkedWith','WebFrameWorkedWith']:\n",
    "    plt.figure(figsize=(3,10))\n",
    "    \n",
    "    # seleting a subset df as bases for a subplot\n",
    "    contains_col = feat_coef.index.str.contains(col)\n",
    "    sub_feat = feat_coef[contains_col]\n",
    "    sub_feat.index = sub_feat.index.str.replace(col+': ','')\n",
    "    \n",
    "    # creating the plot and adding labels\n",
    "    sub_feat.sort_values('Coefficient').plot.barh(ax=ax[a,b])\n",
    "    ax[a,b].spines['right'].set_visible(False)\n",
    "    ax[a,b].spines['top'].set_visible(False)\n",
    "    ax[a,b].set_ylabel('')\n",
    "    ax[a,b].set_title(str(col),fontsize=20);\n",
    "    b+=1\n",
    "    if(b==2):\n",
    "        b=0\n",
    "        a+=1\n",
    "plt.show();"
   ]
  },
  {
   "cell_type": "code",
   "execution_count": null,
   "metadata": {},
   "outputs": [],
   "source": []
  }
 ],
 "metadata": {
  "kernelspec": {
   "display_name": "Python 3",
   "language": "python",
   "name": "python3"
  },
  "language_info": {
   "codemirror_mode": {
    "name": "ipython",
    "version": 3
   },
   "file_extension": ".py",
   "mimetype": "text/x-python",
   "name": "python",
   "nbconvert_exporter": "python",
   "pygments_lexer": "ipython3",
   "version": "3.6.8"
  }
 },
 "nbformat": 4,
 "nbformat_minor": 4
}
