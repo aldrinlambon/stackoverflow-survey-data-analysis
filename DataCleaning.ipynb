{
 "cells": [
  {
   "cell_type": "code",
   "execution_count": 1,
   "metadata": {},
   "outputs": [],
   "source": [
    "import pandas as pd\n",
    "import matplotlib.pyplot as plt\n",
    "import seaborn as sns\n",
    "\n",
    "import warnings\n",
    "warnings.filterwarnings('ignore')"
   ]
  },
  {
   "cell_type": "markdown",
   "metadata": {},
   "source": [
    "Variable that will be interesting to utilize\n",
    "1. Employment\n",
    "2. Country\n",
    "3. EdLevel\n",
    "4. Undergradute Major\n",
    "5. DevType\n",
    "6. Job Satisfaction\n",
    "7. Salary\n",
    "8. Languages\n",
    "9. Database\n",
    "10. Platform\n",
    "11. Framework"
   ]
  },
  {
   "cell_type": "code",
   "execution_count": 2,
   "metadata": {},
   "outputs": [],
   "source": [
    "def clean(df,year):\n",
    "    col_renames = ['Employment','Country','Education',\n",
    "                   'Major','DeveloperType','JobSatisfaction','Salary',\n",
    "                   'LanguageWorkedWith','DatabaseWorkedWith',\n",
    "                   'PlatformWorkedWith','WebFrameWorkedWith']\n",
    "    df.columns = col_renames\n",
    "    \n",
    "    is_freelance_or_fulltime = df['Employment'].str.contains('full-time|freelance',na=False)\n",
    "    df = df.loc[is_freelance_or_fulltime]\n",
    "    \n",
    "    if ~isinstance(df['JobSatisfaction'],str):\n",
    "        jobSat_buckets = {0: 'Extremely dissatisfied',\n",
    "                  1: 'Moderately dissatisfied',\n",
    "                  2: 'Moderately dissatisfied',\n",
    "                  3: 'Slightly dissatisfied',\n",
    "                  4: 'Slightly dissatisfied',\n",
    "                  5: 'Neither satisfied nor dissatisfied',\n",
    "                  6: 'Slightly satisfied',\n",
    "                  7: 'Slightly satisfied',\n",
    "                  8: 'Moderately dissatisfied',\n",
    "                  9: 'Moderately dissatisfied',\n",
    "                  10: 'Extremely satisfied'}\n",
    "        df['JobSatisfaction'] = df['JobSatisfaction'].map(jobSat_buckets)\n",
    "    \n",
    "    df['Year']=year\n",
    "    \n",
    "    return df"
   ]
  },
  {
   "cell_type": "code",
   "execution_count": 3,
   "metadata": {
    "scrolled": true
   },
   "outputs": [
    {
     "name": "stdout",
     "output_type": "stream",
     "text": [
      "(51392, 154)\n",
      "(41381, 12)\n",
      "<class 'pandas.core.frame.DataFrame'>\n",
      "Int64Index: 41381 entries, 2 to 51391\n",
      "Data columns (total 12 columns):\n",
      " #   Column              Non-Null Count  Dtype  \n",
      "---  ------              --------------  -----  \n",
      " 0   Employment          41381 non-null  object \n",
      " 1   Country             41381 non-null  object \n",
      " 2   Education           41381 non-null  object \n",
      " 3   Major               37436 non-null  object \n",
      " 4   DeveloperType       33895 non-null  object \n",
      " 5   JobSatisfaction     38549 non-null  object \n",
      " 6   Salary              12444 non-null  float64\n",
      " 7   LanguageWorkedWith  30549 non-null  object \n",
      " 8   DatabaseWorkedWith  25328 non-null  object \n",
      " 9   PlatformWorkedWith  24259 non-null  object \n",
      " 10  WebFrameWorkedWith  17396 non-null  object \n",
      " 11  Year                41381 non-null  int64  \n",
      "dtypes: float64(1), int64(1), object(10)\n",
      "memory usage: 4.1+ MB\n"
     ]
    }
   ],
   "source": [
    "df_2017 = pd.read_csv('survey_results_public_2017.csv',low_memory=False)\n",
    "print(df_2017.shape)\n",
    "cols_2017 = ['EmploymentStatus','Country','FormalEducation','MajorUndergrad',\n",
    "             'DeveloperType','JobSatisfaction','Salary',\n",
    "             'HaveWorkedLanguage','HaveWorkedDatabase','HaveWorkedPlatform','HaveWorkedFramework',\n",
    "            ]\n",
    "df_2017 = df_2017[cols_2017]\n",
    "df_2017 = clean(df_2017,2017)\n",
    "print(df_2017.shape)\n",
    "df_2017.info()"
   ]
  },
  {
   "cell_type": "code",
   "execution_count": 4,
   "metadata": {},
   "outputs": [
    {
     "name": "stdout",
     "output_type": "stream",
     "text": [
      "(98855, 129)\n",
      "(79777, 12)\n",
      "<class 'pandas.core.frame.DataFrame'>\n",
      "Int64Index: 79777 entries, 1 to 98853\n",
      "Data columns (total 12 columns):\n",
      " #   Column              Non-Null Count  Dtype \n",
      "---  ------              --------------  ----- \n",
      " 0   Employment          79777 non-null  object\n",
      " 1   Country             79777 non-null  object\n",
      " 2   Education           78464 non-null  object\n",
      " 3   Major               69507 non-null  object\n",
      " 4   DeveloperType       76150 non-null  object\n",
      " 5   JobSatisfaction     0 non-null      object\n",
      " 6   Salary              45572 non-null  object\n",
      " 7   LanguageWorkedWith  65569 non-null  object\n",
      " 8   DatabaseWorkedWith  57008 non-null  object\n",
      " 9   PlatformWorkedWith  55820 non-null  object\n",
      " 10  WebFrameWorkedWith  44622 non-null  object\n",
      " 11  Year                79777 non-null  int64 \n",
      "dtypes: int64(1), object(11)\n",
      "memory usage: 7.9+ MB\n"
     ]
    }
   ],
   "source": [
    "df_2018 = pd.read_csv('survey_results_public_2018.csv',low_memory=False)\n",
    "print(df_2018.shape)\n",
    "cols_2018 = ['Employment','Country','FormalEducation','UndergradMajor',\n",
    "             'DevType','JobSatisfaction','Salary',\n",
    "             'LanguageWorkedWith','DatabaseWorkedWith','PlatformWorkedWith','FrameworkWorkedWith'\n",
    "            ]\n",
    "df_2018 = df_2018[cols_2018]\n",
    "df_2018 = clean(df_2018,2018)\n",
    "print(df_2018.shape)\n",
    "df_2018.info()"
   ]
  },
  {
   "cell_type": "code",
   "execution_count": 5,
   "metadata": {},
   "outputs": [
    {
     "name": "stdout",
     "output_type": "stream",
     "text": [
      "(88883, 85)\n",
      "(72951, 12)\n",
      "<class 'pandas.core.frame.DataFrame'>\n",
      "Int64Index: 72951 entries, 2 to 88881\n",
      "Data columns (total 12 columns):\n",
      " #   Column              Non-Null Count  Dtype  \n",
      "---  ------              --------------  -----  \n",
      " 0   Employment          72951 non-null  object \n",
      " 1   Country             72897 non-null  object \n",
      " 2   Education           71468 non-null  object \n",
      " 3   Major               66206 non-null  object \n",
      " 4   DeveloperType       71527 non-null  object \n",
      " 5   JobSatisfaction     0 non-null      object \n",
      " 6   Salary              53742 non-null  float64\n",
      " 7   LanguageWorkedWith  72261 non-null  object \n",
      " 8   DatabaseWorkedWith  64396 non-null  object \n",
      " 9   PlatformWorkedWith  67204 non-null  object \n",
      " 10  WebFrameWorkedWith  55613 non-null  object \n",
      " 11  Year                72951 non-null  int64  \n",
      "dtypes: float64(1), int64(1), object(10)\n",
      "memory usage: 7.2+ MB\n"
     ]
    }
   ],
   "source": [
    "df_2019 = pd.read_csv('survey_results_public_2019.csv',low_memory=False)\n",
    "print(df_2019.shape)\n",
    "cols_2019 = ['Employment','Country','EdLevel','UndergradMajor',\n",
    "             'DevType','JobSat','CompTotal',\n",
    "             'LanguageWorkedWith','DatabaseWorkedWith','PlatformWorkedWith','WebFrameWorkedWith'\n",
    "            ]\n",
    "df_2019 = df_2019[cols_2019]\n",
    "df_2019 = clean(df_2019,2019)\n",
    "print(df_2019.shape)\n",
    "df_2019.info()"
   ]
  },
  {
   "cell_type": "code",
   "execution_count": 6,
   "metadata": {},
   "outputs": [
    {
     "data": {
      "text/plain": [
       "(194109, 12)"
      ]
     },
     "execution_count": 6,
     "metadata": {},
     "output_type": "execute_result"
    }
   ],
   "source": [
    "df_all = pd.concat([df_2017,df_2018,df_2019],axis=0,ignore_index=True)\n",
    "df_all.shape"
   ]
  },
  {
   "cell_type": "code",
   "execution_count": 7,
   "metadata": {},
   "outputs": [
    {
     "data": {
      "text/html": [
       "<div>\n",
       "<style scoped>\n",
       "    .dataframe tbody tr th:only-of-type {\n",
       "        vertical-align: middle;\n",
       "    }\n",
       "\n",
       "    .dataframe tbody tr th {\n",
       "        vertical-align: top;\n",
       "    }\n",
       "\n",
       "    .dataframe thead th {\n",
       "        text-align: right;\n",
       "    }\n",
       "</style>\n",
       "<table border=\"1\" class=\"dataframe\">\n",
       "  <thead>\n",
       "    <tr style=\"text-align: right;\">\n",
       "      <th></th>\n",
       "      <th>Employment</th>\n",
       "      <th>Country</th>\n",
       "      <th>Education</th>\n",
       "      <th>Major</th>\n",
       "      <th>DeveloperType</th>\n",
       "      <th>JobSatisfaction</th>\n",
       "      <th>Salary</th>\n",
       "      <th>LanguageWorkedWith</th>\n",
       "      <th>DatabaseWorkedWith</th>\n",
       "      <th>PlatformWorkedWith</th>\n",
       "      <th>WebFrameWorkedWith</th>\n",
       "      <th>Year</th>\n",
       "    </tr>\n",
       "  </thead>\n",
       "  <tbody>\n",
       "    <tr>\n",
       "      <th>0</th>\n",
       "      <td>Employed full-time</td>\n",
       "      <td>United Kingdom</td>\n",
       "      <td>Bachelor's degree</td>\n",
       "      <td>Computer science or software engineering</td>\n",
       "      <td>Other</td>\n",
       "      <td>Moderately dissatisfied</td>\n",
       "      <td>113750</td>\n",
       "      <td>Java; PHP; Python</td>\n",
       "      <td>MySQL</td>\n",
       "      <td>NaN</td>\n",
       "      <td>NaN</td>\n",
       "      <td>2017</td>\n",
       "    </tr>\n",
       "    <tr>\n",
       "      <th>1</th>\n",
       "      <td>Employed full-time</td>\n",
       "      <td>United States</td>\n",
       "      <td>Doctoral degree</td>\n",
       "      <td>A non-computer-focused engineering discipline</td>\n",
       "      <td>NaN</td>\n",
       "      <td>Slightly dissatisfied</td>\n",
       "      <td>NaN</td>\n",
       "      <td>Matlab; Python; R; SQL</td>\n",
       "      <td>MongoDB; Redis; SQL Server; MySQL; SQLite</td>\n",
       "      <td>Windows Desktop; Linux Desktop; Mac OS; Amazon...</td>\n",
       "      <td>React</td>\n",
       "      <td>2017</td>\n",
       "    </tr>\n",
       "    <tr>\n",
       "      <th>2</th>\n",
       "      <td>Employed full-time</td>\n",
       "      <td>Switzerland</td>\n",
       "      <td>Master's degree</td>\n",
       "      <td>Computer science or software engineering</td>\n",
       "      <td>Mobile developer; Graphics programming; Deskto...</td>\n",
       "      <td>Moderately dissatisfied</td>\n",
       "      <td>NaN</td>\n",
       "      <td>NaN</td>\n",
       "      <td>NaN</td>\n",
       "      <td>NaN</td>\n",
       "      <td>NaN</td>\n",
       "      <td>2017</td>\n",
       "    </tr>\n",
       "    <tr>\n",
       "      <th>3</th>\n",
       "      <td>Employed full-time</td>\n",
       "      <td>United States</td>\n",
       "      <td>Master's degree</td>\n",
       "      <td>A non-computer-focused engineering discipline</td>\n",
       "      <td>NaN</td>\n",
       "      <td>Slightly satisfied</td>\n",
       "      <td>NaN</td>\n",
       "      <td>Matlab; Python</td>\n",
       "      <td>SQLite</td>\n",
       "      <td>Windows Desktop</td>\n",
       "      <td>NaN</td>\n",
       "      <td>2017</td>\n",
       "    </tr>\n",
       "    <tr>\n",
       "      <th>4</th>\n",
       "      <td>Employed full-time</td>\n",
       "      <td>Poland</td>\n",
       "      <td>Master's degree</td>\n",
       "      <td>Computer science or software engineering</td>\n",
       "      <td>Web developer</td>\n",
       "      <td>Slightly satisfied</td>\n",
       "      <td>NaN</td>\n",
       "      <td>CoffeeScript; Clojure; Elixir; Erlang; Haskell...</td>\n",
       "      <td>Redis; MySQL; PostgreSQL</td>\n",
       "      <td>Amazon Web Services (AWS)</td>\n",
       "      <td>React</td>\n",
       "      <td>2017</td>\n",
       "    </tr>\n",
       "  </tbody>\n",
       "</table>\n",
       "</div>"
      ],
      "text/plain": [
       "           Employment         Country          Education  \\\n",
       "0  Employed full-time  United Kingdom  Bachelor's degree   \n",
       "1  Employed full-time   United States    Doctoral degree   \n",
       "2  Employed full-time     Switzerland    Master's degree   \n",
       "3  Employed full-time   United States    Master's degree   \n",
       "4  Employed full-time          Poland    Master's degree   \n",
       "\n",
       "                                           Major  \\\n",
       "0       Computer science or software engineering   \n",
       "1  A non-computer-focused engineering discipline   \n",
       "2       Computer science or software engineering   \n",
       "3  A non-computer-focused engineering discipline   \n",
       "4       Computer science or software engineering   \n",
       "\n",
       "                                       DeveloperType          JobSatisfaction  \\\n",
       "0                                              Other  Moderately dissatisfied   \n",
       "1                                                NaN    Slightly dissatisfied   \n",
       "2  Mobile developer; Graphics programming; Deskto...  Moderately dissatisfied   \n",
       "3                                                NaN       Slightly satisfied   \n",
       "4                                      Web developer       Slightly satisfied   \n",
       "\n",
       "   Salary                                 LanguageWorkedWith  \\\n",
       "0  113750                                  Java; PHP; Python   \n",
       "1     NaN                             Matlab; Python; R; SQL   \n",
       "2     NaN                                                NaN   \n",
       "3     NaN                                     Matlab; Python   \n",
       "4     NaN  CoffeeScript; Clojure; Elixir; Erlang; Haskell...   \n",
       "\n",
       "                          DatabaseWorkedWith  \\\n",
       "0                                      MySQL   \n",
       "1  MongoDB; Redis; SQL Server; MySQL; SQLite   \n",
       "2                                        NaN   \n",
       "3                                     SQLite   \n",
       "4                   Redis; MySQL; PostgreSQL   \n",
       "\n",
       "                                  PlatformWorkedWith WebFrameWorkedWith  Year  \n",
       "0                                                NaN                NaN  2017  \n",
       "1  Windows Desktop; Linux Desktop; Mac OS; Amazon...              React  2017  \n",
       "2                                                NaN                NaN  2017  \n",
       "3                                    Windows Desktop                NaN  2017  \n",
       "4                          Amazon Web Services (AWS)              React  2017  "
      ]
     },
     "execution_count": 7,
     "metadata": {},
     "output_type": "execute_result"
    }
   ],
   "source": [
    "df_all.head()"
   ]
  },
  {
   "cell_type": "code",
   "execution_count": 8,
   "metadata": {},
   "outputs": [
    {
     "data": {
      "text/plain": [
       "Employed full-time                                      171083\n",
       "Independent contractor, freelancer, or self-employed     23026\n",
       "Name: Employment, dtype: int64"
      ]
     },
     "execution_count": 8,
     "metadata": {},
     "output_type": "execute_result"
    }
   ],
   "source": [
    "df_all['Employment'].value_counts()"
   ]
  },
  {
   "cell_type": "code",
   "execution_count": 9,
   "metadata": {},
   "outputs": [],
   "source": [
    "df_all.to_csv('survey_data_17_to_19.csv',index=False)"
   ]
  }
 ],
 "metadata": {
  "kernelspec": {
   "display_name": "Python 3",
   "language": "python",
   "name": "python3"
  },
  "language_info": {
   "codemirror_mode": {
    "name": "ipython",
    "version": 3
   },
   "file_extension": ".py",
   "mimetype": "text/x-python",
   "name": "python",
   "nbconvert_exporter": "python",
   "pygments_lexer": "ipython3",
   "version": "3.6.8"
  }
 },
 "nbformat": 4,
 "nbformat_minor": 4
}
